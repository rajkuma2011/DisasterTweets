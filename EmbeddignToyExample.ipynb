{
 "cells": [
  {
   "cell_type": "code",
   "execution_count": 1,
   "metadata": {},
   "outputs": [],
   "source": [
    "from torch import nn\n",
    "from torch.autograd import Variable\n",
    "import torch"
   ]
  },
  {
   "cell_type": "code",
   "execution_count": 2,
   "metadata": {},
   "outputs": [],
   "source": [
    "class LinearMulti(nn.Module):\n",
    "    \"\"\"\n",
    "    Fetch the weight and bias from a lookup table based on agent/model id\n",
    "    Params:\n",
    "        sz_in: input layer\n",
    "        sz_out: output layer\n",
    "        model_ids: agent/model id\n",
    "    Returns:\n",
    "        Tensor [len(model_ids), sz_out]\n",
    "    \"\"\"\n",
    "    def __init__(self, nmodels, sz_in, sz_out):\n",
    "        super(LinearMulti, self).__init__()\n",
    "        self.nmodels = nmodels\n",
    "        self.sz_in = sz_in\n",
    "        self.sz_out = sz_out\n",
    "\n",
    "        if nmodels == 1:\n",
    "            self.linear = nn.Linear(sz_in, sz_out)\n",
    "        else:\n",
    "            # XXX: potential bug - updateGradInput is overidden,\n",
    "            # possible use of `register_backward_hook`\n",
    "            self.weight_lut = nn.Embedding(nmodels, sz_in * sz_out) # 1x3x200\n",
    "            self.bias_lut = nn.Embedding(nmodels, sz_out) # 1x3x20\n",
    "\n",
    "    def forward(self, input, model_ids):\n",
    "        \"\"\"\n",
    "        Params:\n",
    "            input: shape [len(model_ids), sz_in]\n",
    "        \"\"\"\n",
    "        if self.nmodels == 1:\n",
    "            return self.linear(input)\n",
    "        else:\n",
    "            weight = self.weight_lut(model_ids) # 1 x 3 x 200\n",
    "            weight_view = weight.view(-1, self.sz_in, self.sz_out) # 3 x 10 x 20\n",
    "            bias = self.bias_lut(model_ids) # 1 x 3 x 20\n",
    "            bias_view = bias.view(-1, self.sz_out) # 3x20\n",
    "\n",
    "            a, b = input.size()\n",
    "            input = input.view(a, 1, b) # 3x1x10\n",
    "\n",
    "            out = torch.matmul(input, weight_view) # 3x1x20\n",
    "\n",
    "            a, b, c = out.size()\n",
    "            out = out.view(a, c) #3x20\n",
    "            out = out.add(bias_view) # 3x20\n",
    "            return out"
   ]
  },
  {
   "cell_type": "code",
   "execution_count": 8,
   "metadata": {},
   "outputs": [
    {
     "name": "stdout",
     "output_type": "stream",
     "text": [
      "tensor([[ 3.],\n",
      "        [10.],\n",
      "        [ 3.]])\n",
      "tensor(130.8749, grad_fn=<MseLossBackward>)\n",
      "tensor(113.3854, grad_fn=<MseLossBackward>)\n",
      "tensor(102.4016, grad_fn=<MseLossBackward>)\n",
      "tensor(94.1657, grad_fn=<MseLossBackward>)\n",
      "tensor(87.5230, grad_fn=<MseLossBackward>)\n",
      "tensor(81.9443, grad_fn=<MseLossBackward>)\n",
      "tensor(77.1357, grad_fn=<MseLossBackward>)\n",
      "tensor(72.9152, grad_fn=<MseLossBackward>)\n",
      "tensor(69.1603, grad_fn=<MseLossBackward>)\n",
      "tensor(65.7846, grad_fn=<MseLossBackward>)\n"
     ]
    },
    {
     "name": "stderr",
     "output_type": "stream",
     "text": [
      "C:\\Users\\rajku\\.conda\\envs\\pytorch\\lib\\site-packages\\torch\\nn\\_reduction.py:46: UserWarning: size_average and reduce args will be deprecated, please use reduction='sum' instead.\n",
      "  warnings.warn(warning.format(ret))\n"
     ]
    }
   ],
   "source": [
    "x = Variable(torch.ones(3, 4))\n",
    "model = LinearMulti(3, 4, 1)\n",
    "y = model.forward(x, Variable(torch.LongTensor([[1,2,1]])))\n",
    "target = Variable(torch.FloatTensor([[3],[10],[3], ]))\n",
    "print(target)\n",
    "#print(y)\n",
    "\n",
    "learning_rate = 1e-1\n",
    "optimizer = torch.optim.Adagrad(model.parameters(), lr=learning_rate)\n",
    "loss_fn = torch.nn.MSELoss(size_average=False)\n",
    "\n",
    "for i in range(10):\n",
    "    print(model.weigh_lut.)\n",
    "    optimizer.zero_grad()\n",
    "    y = model.forward(x, Variable(torch.LongTensor([[1,2,1]])))\n",
    "    loss = loss_fn(y, target)\n",
    "    loss.backward(retain_graph=True)\n",
    "    optimizer.step()\n",
    "    print (loss)"
   ]
  },
  {
   "cell_type": "code",
   "execution_count": 9,
   "metadata": {},
   "outputs": [],
   "source": [
    "class Modeler(nn.Module):\n",
    "    \n",
    "    def __init__(self, embed, vocab_size, embed_dim, keyword):\n",
    "        super(Modeler, self).__init__()\n",
    "        \n",
    "        self.embeddings = nn.Embedding(vocab_size, embed_dim)\n",
    "        self.embeddings.weight.data.copy_(torch.from_numpy(embed))\n",
    "        self.embeddings.weight.requires_grad = True\n",
    "        self.keyword = keyword\n",
    "        self.linear1 = nn.Linear(embed_dim, 128)\n",
    "        self.linear2 = nn.Linear(128, 1)\n",
    "        \n",
    "    def forward(self, input):\n",
    "        embed = self.embeddings(input)\n",
    "        k = embed.dot(self.keyword)\n",
    "        out = F.relu(self.linear1(embed))\n",
    "        out = self.linear2(out)\n",
    "        return out"
   ]
  },
  {
   "cell_type": "code",
   "execution_count": 10,
   "metadata": {},
   "outputs": [
    {
     "ename": "NameError",
     "evalue": "name 'word_to_ix' is not defined",
     "output_type": "error",
     "traceback": [
      "\u001b[1;31m---------------------------------------------------------------------------\u001b[0m",
      "\u001b[1;31mNameError\u001b[0m                                 Traceback (most recent call last)",
      "\u001b[1;32m<ipython-input-10-f7b0147f3c62>\u001b[0m in \u001b[0;36m<module>\u001b[1;34m\u001b[0m\n\u001b[0;32m      1\u001b[0m \u001b[0mlosses\u001b[0m \u001b[1;33m=\u001b[0m \u001b[1;33m[\u001b[0m\u001b[1;33m]\u001b[0m\u001b[1;33m\u001b[0m\u001b[1;33m\u001b[0m\u001b[0m\n\u001b[0;32m      2\u001b[0m \u001b[0mloss_function\u001b[0m \u001b[1;33m=\u001b[0m \u001b[0mnn\u001b[0m\u001b[1;33m.\u001b[0m\u001b[0mMSELoss\u001b[0m\u001b[1;33m(\u001b[0m\u001b[1;33m)\u001b[0m\u001b[1;33m\u001b[0m\u001b[1;33m\u001b[0m\u001b[0m\n\u001b[1;32m----> 3\u001b[1;33m \u001b[0mlookup_tensor\u001b[0m \u001b[1;33m=\u001b[0m \u001b[0mtorch\u001b[0m\u001b[1;33m.\u001b[0m\u001b[0mLongTensor\u001b[0m\u001b[1;33m(\u001b[0m\u001b[1;33m[\u001b[0m\u001b[0mword_to_ix\u001b[0m\u001b[1;33m[\u001b[0m\u001b[1;34m'domain'\u001b[0m\u001b[1;33m]\u001b[0m\u001b[1;33m]\u001b[0m\u001b[1;33m)\u001b[0m\u001b[1;33m\u001b[0m\u001b[1;33m\u001b[0m\u001b[0m\n\u001b[0m\u001b[0;32m      4\u001b[0m \u001b[0membed\u001b[0m \u001b[1;33m=\u001b[0m \u001b[0mmodel\u001b[0m\u001b[1;33m.\u001b[0m\u001b[0membeddings\u001b[0m\u001b[1;33m(\u001b[0m\u001b[0mVariable\u001b[0m\u001b[1;33m(\u001b[0m\u001b[0mlookup_tensor\u001b[0m\u001b[1;33m)\u001b[0m\u001b[1;33m)\u001b[0m\u001b[1;33m\u001b[0m\u001b[1;33m\u001b[0m\u001b[0m\n\u001b[0;32m      5\u001b[0m \u001b[0mn_model\u001b[0m \u001b[1;33m=\u001b[0m \u001b[0mModeler\u001b[0m\u001b[1;33m(\u001b[0m\u001b[0mmodel\u001b[0m\u001b[1;33m.\u001b[0m\u001b[0membeddings\u001b[0m\u001b[1;33m.\u001b[0m\u001b[0mweight\u001b[0m\u001b[1;33m.\u001b[0m\u001b[0mdata\u001b[0m\u001b[1;33m.\u001b[0m\u001b[0mnumpy\u001b[0m\u001b[1;33m(\u001b[0m\u001b[1;33m)\u001b[0m\u001b[1;33m,\u001b[0m \u001b[0mlen\u001b[0m\u001b[1;33m(\u001b[0m\u001b[0mvocab\u001b[0m\u001b[1;33m)\u001b[0m\u001b[1;33m,\u001b[0m\u001b[0membedding_size\u001b[0m\u001b[1;33m,\u001b[0m \u001b[0membed\u001b[0m\u001b[1;33m)\u001b[0m\u001b[1;33m\u001b[0m\u001b[1;33m\u001b[0m\u001b[0m\n",
      "\u001b[1;31mNameError\u001b[0m: name 'word_to_ix' is not defined"
     ]
    }
   ],
   "source": [
    "losses = []\n",
    "loss_function = nn.MSELoss()\n",
    "lookup_tensor = torch.LongTensor([word_to_ix['domain']])\n",
    "embed = model.embeddings(Variable(lookup_tensor))\n",
    "n_model = Modeler(model.embeddings.weight.data.numpy(), len(vocab),embedding_size, embed)\n",
    "optimizer = optim.SGD(n_model.parameters(), lr=0.001)\n",
    "batch_size = 1000\n",
    "start = 0\n",
    "end = batch_size \n",
    "for e in range(700):\n",
    "     for epoch in range(int(len(data)/batch_size)):\n",
    "        total_loss = torch.Tensor([0])\n",
    "        for word, t in data[start:end]:\n",
    "            word_id = word_to_ix[word]\n",
    "            word_var = Variable(torch.LongTensor([word_id]))\n",
    "            # Step 2. Recall that torch *accumulates* gradients. Before passing in a\n",
    "            # new instance, you need to zero out the gradients from the old\n",
    "            # instance\n",
    "            n_model.zero_grad()            # Step 3. Run the forward pass, getting log probabilities over next\n",
    "            # words\n",
    "            res = n_model(word_var)\n",
    "            # Step 4. Compute your loss function. (Again, Torch wants the target\n",
    "            # word wrapped in a variable)\n",
    "            t = Variable(torch.FloatTensor([t]))\n",
    "            loss = loss_function(res, t)\n",
    "            print(loss, t)\n",
    "            # Step 5. Do the backward pass and update the gradient\n",
    "            loss.backward()\n",
    "            optimizer.step()\n",
    "            total_loss += loss.data\n",
    "            start += batch_size\n",
    "            end += batch_size\n",
    "        losses.append(total_loss)\n",
    "print(np.mean(losses))"
   ]
  },
  {
   "cell_type": "code",
   "execution_count": null,
   "metadata": {},
   "outputs": [],
   "source": []
  }
 ],
 "metadata": {
  "kernelspec": {
   "display_name": "Python 3",
   "language": "python",
   "name": "python3"
  },
  "language_info": {
   "codemirror_mode": {
    "name": "ipython",
    "version": 3
   },
   "file_extension": ".py",
   "mimetype": "text/x-python",
   "name": "python",
   "nbconvert_exporter": "python",
   "pygments_lexer": "ipython3",
   "version": "3.7.4"
  }
 },
 "nbformat": 4,
 "nbformat_minor": 2
}
