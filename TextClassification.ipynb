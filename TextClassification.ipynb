{
 "cells": [
  {
   "cell_type": "code",
   "execution_count": 1,
   "metadata": {},
   "outputs": [],
   "source": [
    "import torch"
   ]
  },
  {
   "cell_type": "code",
   "execution_count": 2,
   "metadata": {},
   "outputs": [],
   "source": [
    "import torchtext"
   ]
  },
  {
   "cell_type": "code",
   "execution_count": 3,
   "metadata": {},
   "outputs": [],
   "source": [
    "from torchtext.datasets import text_classification"
   ]
  },
  {
   "cell_type": "code",
   "execution_count": 4,
   "metadata": {},
   "outputs": [],
   "source": [
    "NGRAMS = 2"
   ]
  },
  {
   "cell_type": "code",
   "execution_count": 5,
   "metadata": {},
   "outputs": [],
   "source": [
    "import os"
   ]
  },
  {
   "cell_type": "code",
   "execution_count": 6,
   "metadata": {},
   "outputs": [],
   "source": [
    "if not os.path.isdir('./.data'):\n",
    "    os.mkdir('./.data')"
   ]
  },
  {
   "cell_type": "code",
   "execution_count": 7,
   "metadata": {},
   "outputs": [
    {
     "name": "stderr",
     "output_type": "stream",
     "text": [
      "120000lines [00:07, 15956.27lines/s]\n",
      "120000lines [00:13, 8901.53lines/s]\n",
      "7600lines [00:00, 8627.02lines/s]\n"
     ]
    }
   ],
   "source": [
    "train_dataset, test_dataset = text_classification.DATASETS['AG_NEWS'](root = './.data', ngrams= NGRAMS, vocab=None)"
   ]
  },
  {
   "cell_type": "code",
   "execution_count": 8,
   "metadata": {},
   "outputs": [],
   "source": [
    "BATCH_SIZE = 16"
   ]
  },
  {
   "cell_type": "code",
   "execution_count": 9,
   "metadata": {},
   "outputs": [],
   "source": [
    "device = torch.device(\"cuda\" if torch.cuda.is_available() else \"cpu\")"
   ]
  },
  {
   "cell_type": "code",
   "execution_count": 10,
   "metadata": {},
   "outputs": [],
   "source": [
    "import torch.nn as nn\n",
    "import torch.nn.functional as F\n",
    "class TextSentiment(nn.Module):\n",
    "    def __init__(self, vocab_size, embed_dim, num_class):\n",
    "        super().__init__()\n",
    "        self.embedding = nn.EmbeddingBag(vocab_size, embed_dim, sparse=True)\n",
    "        self.fc = nn.Linear(embed_dim, num_class)\n",
    "        self.init_weights()\n",
    "\n",
    "    def init_weights(self):\n",
    "        initrange = 0.5\n",
    "        self.embedding.weight.data.uniform_(-initrange, initrange)\n",
    "        self.fc.weight.data.uniform_(-initrange, initrange)\n",
    "        self.fc.bias.data.zero_()\n",
    "        \n",
    "    def forward(self, text, offsets):\n",
    "        embedded = self.embedding(text, offsets)\n",
    "        return self.fc(embedded)"
   ]
  },
  {
   "cell_type": "code",
   "execution_count": 11,
   "metadata": {},
   "outputs": [],
   "source": [
    "VOCAB_SIZE = len(train_dataset.get_vocab())\n",
    "EMBED_DIM = 32\n",
    "NUN_CLASS = len(train_dataset.get_labels())\n",
    "model = TextSentiment(VOCAB_SIZE, EMBED_DIM, NUN_CLASS).to(device)"
   ]
  },
  {
   "cell_type": "code",
   "execution_count": 13,
   "metadata": {},
   "outputs": [
    {
     "data": {
      "text/plain": [
       "tensor([[ 0.0651,  0.0304, -0.4281,  0.1517, -0.2144,  0.4823, -0.4475, -0.3091,\n",
       "          0.4425,  0.1859, -0.2278, -0.2926,  0.3620,  0.1438,  0.1043,  0.2641,\n",
       "          0.0581,  0.2177,  0.2984, -0.3495, -0.0938,  0.3112, -0.3127, -0.0838,\n",
       "          0.3244, -0.4936, -0.2568, -0.3273, -0.4760,  0.0677,  0.3018,  0.1236],\n",
       "        [ 0.0107, -0.1493,  0.2340,  0.3049,  0.4198, -0.4674, -0.2883,  0.2055,\n",
       "          0.0704,  0.4376,  0.1954,  0.4294,  0.2506,  0.3782,  0.3937,  0.0384,\n",
       "         -0.3007,  0.4602, -0.1032, -0.2604,  0.3558, -0.1598,  0.4931,  0.1770,\n",
       "          0.2505,  0.1953,  0.2748, -0.0729,  0.2532, -0.4056, -0.1494, -0.4426],\n",
       "        [ 0.4017,  0.0999, -0.1111,  0.0351,  0.4698, -0.4457, -0.3186, -0.2315,\n",
       "          0.0316, -0.0769,  0.3937, -0.4664,  0.0535,  0.0991, -0.3025,  0.0708,\n",
       "          0.1699, -0.0392, -0.2277, -0.1663,  0.2584,  0.1826,  0.2628,  0.1041,\n",
       "         -0.4986, -0.2929, -0.0061,  0.2314,  0.2687,  0.3857,  0.0426, -0.1814],\n",
       "        [ 0.2830, -0.2744,  0.4831, -0.0309,  0.4429, -0.4150, -0.4187,  0.4422,\n",
       "         -0.1411,  0.4688,  0.4583,  0.2076, -0.3530, -0.3545, -0.3663,  0.0544,\n",
       "         -0.4979, -0.0663, -0.1061,  0.0979, -0.1365, -0.2209, -0.2715,  0.2387,\n",
       "          0.4330,  0.2909, -0.0725,  0.0865, -0.3426,  0.0253,  0.0570,  0.0178],\n",
       "        [ 0.1704,  0.1030, -0.0671, -0.3800,  0.0424, -0.0008, -0.0769,  0.2305,\n",
       "         -0.1533,  0.1454,  0.2350, -0.1964, -0.4510, -0.1585, -0.4911,  0.0407,\n",
       "          0.1440,  0.1339,  0.2086, -0.0300, -0.1736, -0.4532,  0.4046,  0.1792,\n",
       "          0.4690,  0.4918,  0.2085, -0.0224,  0.1953, -0.2025, -0.2284,  0.2844]],\n",
       "       grad_fn=<SliceBackward>)"
      ]
     },
     "execution_count": 13,
     "metadata": {},
     "output_type": "execute_result"
    }
   ],
   "source": [
    "model.embedding.weight[10:15]"
   ]
  },
  {
   "cell_type": "code",
   "execution_count": 19,
   "metadata": {},
   "outputs": [],
   "source": [
    "iterCount = 0\n",
    "def generate_batch(batch):\n",
    "    label = torch.tensor([entry[0] for entry in batch])\n",
    "    global iterCount\n",
    "    text = [entry[1] for entry in batch]\n",
    "    length = [len(entry[1]) for entry in batch]\n",
    "    offsets = [0] + [len(entry) for entry in text]\n",
    "    # torch.Tensor.cumsum returns the cumulative sum\n",
    "    # of elements in the dimension dim.\n",
    "    # torch.Tensor([1.0, 2.0, 3.0]).cumsum(dim=0)\n",
    "\n",
    "    offsets = torch.tensor(offsets[:-1]).cumsum(dim=0)\n",
    "    text = torch.cat(text)\n",
    "    iterCount = iterCount + 1\n",
    "    return text, offsets, label"
   ]
  },
  {
   "cell_type": "code",
   "execution_count": 20,
   "metadata": {},
   "outputs": [],
   "source": [
    "from torch.utils.data import DataLoader\n"
   ]
  },
  {
   "cell_type": "code",
   "execution_count": 21,
   "metadata": {},
   "outputs": [],
   "source": [
    "data = DataLoader(train_dataset, batch_size=BATCH_SIZE, shuffle=True,collate_fn=generate_batch)"
   ]
  },
  {
   "cell_type": "code",
   "execution_count": 22,
   "metadata": {},
   "outputs": [],
   "source": [
    "def train_func(sub_train_):\n",
    "\n",
    "    # Train the model\n",
    "    train_loss = 0\n",
    "    train_acc = 0\n",
    "    data = DataLoader(sub_train_, batch_size=BATCH_SIZE, shuffle=True,\n",
    "                      collate_fn=generate_batch)\n",
    "    for i, (text, offsets, cls) in enumerate(data):\n",
    "        optimizer.zero_grad()\n",
    "        text, offsets, cls = text.to(device), offsets.to(device), cls.to(device)\n",
    "        output = model(text, offsets)\n",
    "        loss = criterion(output, cls)\n",
    "        train_loss += loss.item()\n",
    "        loss.backward()\n",
    "        optimizer.step()\n",
    "        train_acc += (output.argmax(1) == cls).sum().item()\n",
    "\n",
    "    # Adjust the learning rate\n",
    "    scheduler.step()\n",
    "\n",
    "    return train_loss / len(sub_train_), train_acc / len(sub_train_)\n"
   ]
  },
  {
   "cell_type": "code",
   "execution_count": 23,
   "metadata": {},
   "outputs": [],
   "source": [
    "def test(data_):\n",
    "    loss = 0\n",
    "    acc = 0\n",
    "    data = DataLoader(data_, batch_size=BATCH_SIZE, collate_fn=generate_batch)\n",
    "    for text, offsets, cls in data:\n",
    "        text, offsets, cls = text.to(device), offsets.to(device), cls.to(device)\n",
    "        with torch.no_grad():\n",
    "            output = model(text, offsets)\n",
    "            loss = criterion(output, cls)\n",
    "            loss += loss.item()\n",
    "            acc += (output.argmax(1) == cls).sum().item()\n",
    "\n",
    "    return loss / len(data_), acc / len(data_)"
   ]
  },
  {
   "cell_type": "code",
   "execution_count": 24,
   "metadata": {},
   "outputs": [
    {
     "name": "stdout",
     "output_type": "stream",
     "text": [
      "Epoch: 1  | time in 0 minutes, 49 seconds\n",
      "\tLoss: 0.0040(train)\t|\tAcc: 98.2%(train)\n",
      "\tLoss: 0.0001(valid)\t|\tAcc: 96.7%(valid)\n",
      "tensor([[ 0.0435, -0.0578, -0.3349,  0.1859, -0.0533,  0.3975, -0.4846, -0.1683,\n",
      "          0.2210,  0.0940, -0.1398, -0.1770,  0.1249,  0.0708,  0.2275,  0.4073,\n",
      "          0.1229,  0.2380,  0.0412, -0.4892, -0.0559,  0.2879, -0.2088, -0.1338,\n",
      "          0.4013, -0.4712, -0.3538, -0.3588, -0.3056, -0.0995,  0.2255, -0.0351],\n",
      "        [-0.0286, -0.1249, -0.1219, -0.0107,  0.0507, -0.4679,  0.0181,  0.0574,\n",
      "          0.2048,  0.7144, -0.1072,  0.3459,  0.5389,  0.3681,  0.2995, -0.1708,\n",
      "         -0.3524,  0.4100,  0.1525, -0.2202,  0.2646, -0.2490,  0.3035,  0.0329,\n",
      "          0.0099,  0.3081,  0.1874,  0.1801,  0.1376, -0.2061,  0.2695, -0.0115]],\n",
      "       grad_fn=<SliceBackward>)\n",
      "Epoch: 2  | time in 0 minutes, 49 seconds\n",
      "\tLoss: 0.0022(train)\t|\tAcc: 99.0%(train)\n",
      "\tLoss: 0.0001(valid)\t|\tAcc: 97.4%(valid)\n",
      "tensor([[-0.0390, -0.0774, -0.3083,  0.2251,  0.0254,  0.3444, -0.5418, -0.1276,\n",
      "          0.1679,  0.0656, -0.0984, -0.1804,  0.0039,  0.0011,  0.3023,  0.4696,\n",
      "          0.1225,  0.2206, -0.0825, -0.4959, -0.0591,  0.2342, -0.1484, -0.0214,\n",
      "          0.4329, -0.4733, -0.3625, -0.4052, -0.3084, -0.1765,  0.0865, -0.0673],\n",
      "        [ 0.0561, -0.2361,  0.0851,  0.1846,  0.2332, -0.4421, -0.1217,  0.1237,\n",
      "          0.0950,  0.5421,  0.0662,  0.4502,  0.3180,  0.3586,  0.3690,  0.0022,\n",
      "         -0.3110,  0.4464,  0.0093, -0.3451,  0.3134, -0.1730,  0.3548,  0.0171,\n",
      "          0.1269,  0.2292,  0.1543,  0.0530,  0.2386, -0.3204,  0.0983, -0.2671]],\n",
      "       grad_fn=<SliceBackward>)\n",
      "Epoch: 3  | time in 0 minutes, 49 seconds\n",
      "\tLoss: 0.0014(train)\t|\tAcc: 99.4%(train)\n",
      "\tLoss: 0.0000(valid)\t|\tAcc: 98.3%(valid)\n",
      "tensor([[ 0.1484, -0.1822, -0.3382,  0.3552,  0.1414,  0.4283, -0.5145, -0.1539,\n",
      "          0.0663,  0.0949, -0.1151,  0.0679, -0.0141,  0.0776,  0.3304,  0.5191,\n",
      "          0.0771,  0.2442, -0.0130, -0.7077, -0.0981,  0.3899, -0.1229, -0.1918,\n",
      "          0.4620, -0.5352, -0.5500, -0.3080, -0.3117, -0.2676,  0.3792, -0.2590],\n",
      "        [-0.0268, -0.0925, -0.0715, -0.0477, -0.0085, -0.4575,  0.0116,  0.0542,\n",
      "          0.2597,  0.6665, -0.0869,  0.2695,  0.5766,  0.3860,  0.2444, -0.1886,\n",
      "         -0.3169,  0.4193,  0.1744, -0.1597,  0.3042, -0.2603,  0.2601,  0.0157,\n",
      "          0.0059,  0.3159,  0.2711,  0.1374,  0.1700, -0.1319,  0.1988,  0.0311]],\n",
      "       grad_fn=<SliceBackward>)\n",
      "Epoch: 4  | time in 0 minutes, 49 seconds\n",
      "\tLoss: 0.0010(train)\t|\tAcc: 99.6%(train)\n",
      "\tLoss: 0.0000(valid)\t|\tAcc: 98.1%(valid)\n",
      "tensor([[ 0.0128, -0.1302, -0.3202,  0.2949,  0.1043,  0.3582, -0.5464, -0.1245,\n",
      "          0.1040,  0.0730, -0.0962, -0.0706, -0.0446,  0.0082,  0.3425,  0.5114,\n",
      "          0.1009,  0.2243, -0.0924, -0.5916, -0.0815,  0.2820, -0.1138, -0.0542,\n",
      "          0.4553, -0.4999, -0.4520, -0.3732, -0.3141, -0.2462,  0.1735, -0.1586],\n",
      "        [-0.0073, -0.1653, -0.0146,  0.0688,  0.1268, -0.4638, -0.0554,  0.0914,\n",
      "          0.1646,  0.6191, -0.0219,  0.3666,  0.4334,  0.3544,  0.3240, -0.0909,\n",
      "         -0.3249,  0.4231,  0.0779, -0.2594,  0.2973, -0.2292,  0.3209,  0.0389,\n",
      "          0.0644,  0.2759,  0.1946,  0.1064,  0.1906, -0.2445,  0.1554, -0.1121]],\n",
      "       grad_fn=<SliceBackward>)\n",
      "Epoch: 5  | time in 0 minutes, 49 seconds\n",
      "\tLoss: 0.0007(train)\t|\tAcc: 99.7%(train)\n",
      "\tLoss: 0.0000(valid)\t|\tAcc: 98.2%(valid)\n",
      "tensor([[ 0.0741, -0.0945, -0.3063,  0.2379,  0.0063,  0.4035, -0.5061, -0.1543,\n",
      "          0.1791,  0.0637, -0.1142, -0.1191,  0.0718,  0.0734,  0.2488,  0.4505,\n",
      "          0.1240,  0.2452,  0.0103, -0.5437, -0.0531,  0.3141, -0.1849, -0.1437,\n",
      "          0.4267, -0.4903, -0.3851, -0.3659, -0.2903, -0.1406,  0.2234, -0.1079],\n",
      "        [-0.1201, -0.1314,  0.0142,  0.0356,  0.1164, -0.5211, -0.0953,  0.1211,\n",
      "          0.1821,  0.5922,  0.0074,  0.2628,  0.3831,  0.2904,  0.3481, -0.0802,\n",
      "         -0.3053,  0.4070, -0.0069, -0.1762,  0.3092, -0.3153,  0.3371,  0.1585,\n",
      "          0.0699,  0.2993,  0.2661,  0.0420,  0.1924, -0.2443, -0.0291, -0.0525]],\n",
      "       grad_fn=<SliceBackward>)\n"
     ]
    }
   ],
   "source": [
    "import time\n",
    "from torch.utils.data.dataset import random_split\n",
    "N_EPOCHS = 5\n",
    "min_valid_loss = float('inf')\n",
    "\n",
    "criterion = torch.nn.CrossEntropyLoss().to(device)\n",
    "optimizer = torch.optim.SGD(model.parameters(), lr=4.0)\n",
    "scheduler = torch.optim.lr_scheduler.StepLR(optimizer, 1, gamma=0.9)\n",
    "\n",
    "train_len = int(len(train_dataset) * 0.95)\n",
    "sub_train_, sub_valid_ = \\\n",
    "    random_split(train_dataset, [train_len, len(train_dataset) - train_len])\n",
    "\n",
    "for epoch in range(N_EPOCHS):\n",
    "\n",
    "    start_time = time.time()\n",
    "    train_loss, train_acc = train_func(sub_train_)\n",
    "    valid_loss, valid_acc = test(sub_valid_)\n",
    "    \n",
    "    secs = int(time.time() - start_time)\n",
    "    mins = secs / 60\n",
    "    secs = secs % 60\n",
    "\n",
    "    print('Epoch: %d' %(epoch + 1), \" | time in %d minutes, %d seconds\" %(mins, secs))\n",
    "    print(f'\\tLoss: {train_loss:.4f}(train)\\t|\\tAcc: {train_acc * 100:.1f}%(train)')\n",
    "    print(f'\\tLoss: {valid_loss:.4f}(valid)\\t|\\tAcc: {valid_acc * 100:.1f}%(valid)')\n",
    "    print(model.embedding.weight[10:12])"
   ]
  },
  {
   "cell_type": "code",
   "execution_count": 38,
   "metadata": {},
   "outputs": [
    {
     "name": "stdout",
     "output_type": "stream",
     "text": [
      "Checking the results of test dataset...\n",
      "\tLoss: 0.0003(test)\t|\tAcc: 87.4%(test)\n"
     ]
    }
   ],
   "source": [
    "print('Checking the results of test dataset...')\n",
    "test_loss, test_acc = test(test_dataset)\n",
    "print(f'\\tLoss: {test_loss:.4f}(test)\\t|\\tAcc: {test_acc * 100:.1f}%(test)')"
   ]
  },
  {
   "cell_type": "code",
   "execution_count": 39,
   "metadata": {},
   "outputs": [
    {
     "name": "stdout",
     "output_type": "stream",
     "text": [
      "This is a Sports news\n"
     ]
    }
   ],
   "source": [
    "from torchtext.data.utils import ngrams_iterator\n",
    "from torchtext.data.utils import get_tokenizer\n",
    "\n",
    "ag_news_label = {1 : \"World\",\n",
    "                 2 : \"Sports\",\n",
    "                 3 : \"Business\",\n",
    "                 4 : \"Sci/Tec\"}\n",
    "\n",
    "def predict(text, model, vocab, ngrams):\n",
    "    tokenizer = get_tokenizer(\"basic_english\")\n",
    "    with torch.no_grad():\n",
    "        text = torch.tensor([vocab[token]\n",
    "                            for token in ngrams_iterator(tokenizer(text), ngrams)])\n",
    "        output = model(text, torch.tensor([0]))\n",
    "        return output.argmax(1).item() + 1\n",
    "\n",
    "ex_text_str = \"MEMPHIS, Tenn. – Four days ago, Jon Rahm was \\\n",
    "    enduring the season’s worst weather conditions on Sunday at The \\\n",
    "    Open on his way to a closing 75 at Royal Portrush, which \\\n",
    "    considering the wind and the rain was a respectable showing. \\\n",
    "    Thursday’s first round at the WGC-FedEx St. Jude Invitational \\\n",
    "    was another story. With temperatures in the mid-80s and hardly any \\\n",
    "    wind, the Spaniard was 13 strokes better in a flawless round. \\\n",
    "    Thanks to his best putting performance on the PGA Tour, Rahm \\\n",
    "    finished with an 8-under 62 for a three-stroke lead, which \\\n",
    "    was even more impressive considering he’d never played the \\\n",
    "    front nine at TPC Southwind.\"\n",
    "\n",
    "vocab = train_dataset.get_vocab()\n",
    "model = model.to(\"cpu\")\n",
    "\n",
    "print(\"This is a %s news\" %ag_news_label[predict(ex_text_str, model, vocab, 2)])"
   ]
  },
  {
   "cell_type": "code",
   "execution_count": null,
   "metadata": {},
   "outputs": [],
   "source": []
  }
 ],
 "metadata": {
  "kernelspec": {
   "display_name": "Python 3",
   "language": "python",
   "name": "python3"
  },
  "language_info": {
   "codemirror_mode": {
    "name": "ipython",
    "version": 3
   },
   "file_extension": ".py",
   "mimetype": "text/x-python",
   "name": "python",
   "nbconvert_exporter": "python",
   "pygments_lexer": "ipython3",
   "version": "3.7.4"
  }
 },
 "nbformat": 4,
 "nbformat_minor": 2
}
